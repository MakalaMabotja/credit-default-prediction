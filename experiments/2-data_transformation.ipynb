{
 "cells": [
  {
   "cell_type": "code",
   "execution_count": 1,
   "metadata": {},
   "outputs": [],
   "source": [
    "import warnings\n",
    "warnings.filterwarnings('ignore')"
   ]
  },
  {
   "cell_type": "code",
   "execution_count": 3,
   "metadata": {},
   "outputs": [],
   "source": [
    "import pandas as pd \n",
    "import numpy as np\n",
    "import matplotlib.pyplot as plt \n",
    "import seaborn as sns\n",
    "import datetime as dt \n",
    "\n"
   ]
  },
  {
   "cell_type": "code",
   "execution_count": 4,
   "metadata": {},
   "outputs": [],
   "source": [
    "train_df = pd.read_csv('african-credit-scoring-challenge20241129-14702-1nqro8v/Train.csv')\n",
    "test_df = pd.read_csv('african-credit-scoring-challenge20241129-14702-1nqro8v/Test.csv')\n",
    "econ_df = pd.read_csv('african-credit-scoring-challenge20241129-14702-1nqro8v/economic_indicators.csv')"
   ]
  },
  {
   "cell_type": "code",
   "execution_count": 32,
   "metadata": {},
   "outputs": [],
   "source": [
    "df = pd.concat([train_df, test_df])"
   ]
  },
  {
   "cell_type": "code",
   "execution_count": 33,
   "metadata": {},
   "outputs": [],
   "source": [
    "train_ids = train_df['ID']\n",
    "test_ids = test_df['ID']"
   ]
  },
  {
   "cell_type": "code",
   "execution_count": 34,
   "metadata": {},
   "outputs": [],
   "source": [
    "lender_map = {name:f'lender_{chr(idx+ord('A'))}' for idx, name in enumerate(df['lender_id'].unique())}\n",
    "loan_map = {loan_type:chr(ord('A')+int(loan_type.split('_')[1])) for loan_type in df['loan_type'].unique()}\n",
    "\n",
    "df['lender_id'] = df['lender_id'].map(lender_map)\n",
    "df['loan_type'] = df['loan_type'].map(loan_map)"
   ]
  },
  {
   "cell_type": "code",
   "execution_count": 35,
   "metadata": {},
   "outputs": [],
   "source": [
    "df['disbursement_date'] = pd.to_datetime(df['disbursement_date'])\n",
    "df['dis_year'] = df['disbursement_date'].dt.year\n",
    "df['dis_month'] = df['disbursement_date'].dt.month\n",
    "df['dis_day'] = df['disbursement_date'].dt.day\n",
    "df['dis_day_of_week'] = df['disbursement_date'].dt.day_of_week\n",
    "df['dis_day_of_yea'] = df['disbursement_date'].dt.day_of_year\n",
    "\n",
    "df['due_date'] = pd.to_datetime(df['due_date'])\n",
    "df['due_year'] = df['due_date'].dt.year\n",
    "df['due_month'] = df['due_date'].dt.month\n",
    "df['due_day'] = df['due_date'].dt.day\n",
    "df['due_day_of_week'] = df['due_date'].dt.day_of_week\n",
    "df['due_day_of_year'] = df['due_date'].dt.day_of_year"
   ]
  },
  {
   "cell_type": "code",
   "execution_count": 38,
   "metadata": {},
   "outputs": [],
   "source": [
    "df['tbl_loan_id'] = df['tbl_loan_id'].astype('object')\n",
    "df['customer_id'] = df['customer_id'].astype('object')"
   ]
  },
  {
   "cell_type": "code",
   "execution_count": 94,
   "metadata": {},
   "outputs": [],
   "source": [
    "customer_map = {value:idx for idx, value in enumerate(df['New_versus_Repeat'].unique())}\n",
    "df['New_versus_Repeat'] = df['New_versus_Repeat'].map(customer_map)"
   ]
  },
  {
   "cell_type": "code",
   "execution_count": 69,
   "metadata": {},
   "outputs": [],
   "source": [
    "df['binned_lender_portion'] = pd.cut(df['Lender_portion_Funded'], bins=30)\n",
    "df['binned_duration'] = pd.cut(df['duration'], bins=30)\n"
   ]
  },
  {
   "cell_type": "code",
   "execution_count": 97,
   "metadata": {},
   "outputs": [],
   "source": [
    "df['pct_repay'] = df['Total_Amount_to_Repay'] /df['Total_Amount']"
   ]
  },
  {
   "cell_type": "code",
   "execution_count": 98,
   "metadata": {},
   "outputs": [
    {
     "name": "stdout",
     "output_type": "stream",
     "text": [
      "<class 'pandas.core.frame.DataFrame'>\n",
      "Index: 87248 entries, 0 to 18593\n",
      "Data columns (total 29 columns):\n",
      " #   Column                       Non-Null Count  Dtype         \n",
      "---  ------                       --------------  -----         \n",
      " 0   ID                           87248 non-null  object        \n",
      " 1   customer_id                  87248 non-null  object        \n",
      " 2   country_id                   87248 non-null  object        \n",
      " 3   tbl_loan_id                  87248 non-null  object        \n",
      " 4   lender_id                    87248 non-null  object        \n",
      " 5   loan_type                    87248 non-null  object        \n",
      " 6   Total_Amount                 87248 non-null  float64       \n",
      " 7   Total_Amount_to_Repay        87248 non-null  float64       \n",
      " 8   disbursement_date            87248 non-null  datetime64[ns]\n",
      " 9   due_date                     87248 non-null  datetime64[ns]\n",
      " 10  duration                     87248 non-null  int64         \n",
      " 11  New_versus_Repeat            87248 non-null  int64         \n",
      " 12  Amount_Funded_By_Lender      87248 non-null  float64       \n",
      " 13  Lender_portion_Funded        87248 non-null  float64       \n",
      " 14  Lender_portion_to_be_repaid  87248 non-null  float64       \n",
      " 15  target                       68654 non-null  float64       \n",
      " 16  dis_year                     87248 non-null  int32         \n",
      " 17  dis_month                    87248 non-null  int32         \n",
      " 18  dis_day                      87248 non-null  int32         \n",
      " 19  dis_day_of_week              87248 non-null  int32         \n",
      " 20  dis_day_of_yea               87248 non-null  int32         \n",
      " 21  due_year                     87248 non-null  int32         \n",
      " 22  due_month                    87248 non-null  int32         \n",
      " 23  due_day                      87248 non-null  int32         \n",
      " 24  due_day_of_week              87248 non-null  int32         \n",
      " 25  due_day_of_year              87248 non-null  int32         \n",
      " 26  binned_lender_portion        87248 non-null  category      \n",
      " 27  binned_duration              87248 non-null  category      \n",
      " 28  pct_repay                    87248 non-null  float64       \n",
      "dtypes: category(2), datetime64[ns](2), float64(7), int32(10), int64(2), object(6)\n",
      "memory usage: 15.5+ MB\n"
     ]
    }
   ],
   "source": [
    "df.info()"
   ]
  },
  {
   "cell_type": "code",
   "execution_count": 107,
   "metadata": {},
   "outputs": [],
   "source": [
    "df = df.rename(columns={col:col.lower() for col in df.columns})"
   ]
  },
  {
   "cell_type": "code",
   "execution_count": 110,
   "metadata": {},
   "outputs": [],
   "source": [
    "df[df['id'].isin(train_ids)].to_csv('train_processed.csv', index=False)\n",
    "df[df['id'].isin(test_ids)].to_csv('test_processed.csv', index=False)"
   ]
  },
  {
   "cell_type": "code",
   "execution_count": null,
   "metadata": {},
   "outputs": [],
   "source": []
  }
 ],
 "metadata": {
  "kernelspec": {
   "display_name": "Python 3 (ipykernel)",
   "language": "python",
   "name": "python3"
  }
 },
 "nbformat": 4,
 "nbformat_minor": 2
}
